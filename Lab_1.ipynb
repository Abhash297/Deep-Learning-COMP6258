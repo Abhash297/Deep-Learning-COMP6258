{
 "cells": [
  {
   "cell_type": "code",
   "execution_count": null,
   "metadata": {},
   "outputs": [],
   "source": [
    "#1.1 Implement gradient-based factorisation (1 mark)"
   ]
  },
  {
   "cell_type": "code",
   "execution_count": 1,
   "metadata": {},
   "outputs": [],
   "source": [
    "import torch"
   ]
  },
  {
   "cell_type": "code",
   "execution_count": 1,
   "metadata": {},
   "outputs": [],
   "source": [
    "def sgd_factorize(A, rank, num_epochs=1000, lr=0.01):\n",
    "  \n",
    "  U = torch.rand(A.shape[0], rank)\n",
    "  V = torch.rand(A.shape[1], rank)\n",
    "\n",
    "  for epoch in range(num_epochs):\n",
    "    for i in range(A.shape[0]):\n",
    "      for j in range(A.shape[1]):\n",
    "       \n",
    "        e = A[i, j] - torch.dot(U[i], V[j])\n",
    "\n",
    "        # Update the user and item latent matrices using the gradient descent update rule.\n",
    "        U[i] = U[i] + lr * e * V[j]\n",
    "        V[j] = V[j] + lr * e * U[i]\n",
    "\n",
    "  return U, V\n"
   ]
  },
  {
   "cell_type": "code",
   "execution_count": 2,
   "metadata": {},
   "outputs": [
    {
     "name": "stdout",
     "output_type": "stream",
     "text": [
      " Matrix (U):\n",
      "tensor([[ 1.2003,  0.9556],\n",
      "        [ 2.0122, -0.3757],\n",
      "        [ 0.5802,  2.1084]])\n",
      " Matrix (V):\n",
      "tensor([[1.0429, 2.2334],\n",
      "        [2.4851, 0.2182],\n",
      "        [0.1491, 1.6693]])\n"
     ]
    }
   ],
   "source": [
    "\n",
    "\n",
    "A = torch.tensor([[4, 3, 1],  # User ratings for items\n",
    "                   [1, 5, 0],\n",
    "                   [5, 2, 4]])\n",
    "\n",
    "\n",
    "rank = 2  \n",
    "num_epochs = 1000\n",
    "lr = 0.01\n",
    "\n",
    "U, V = sgd_factorize(A, rank, num_epochs, lr)\n",
    "\n",
    "print(\" Matrix (U):\")\n",
    "print(U)\n",
    "print(\" Matrix (V):\")\n",
    "print(V)"
   ]
  },
  {
   "cell_type": "code",
   "execution_count": null,
   "metadata": {},
   "outputs": [],
   "source": [
    "#1.2 Factorise and compute reconstruction error (1 mark)"
   ]
  },
  {
   "cell_type": "code",
   "execution_count": 21,
   "metadata": {},
   "outputs": [
    {
     "name": "stdout",
     "output_type": "stream",
     "text": [
      "Matrix (U):\n",
      "tensor([[-0.1688,  0.5531],\n",
      "        [ 1.8053,  0.6097],\n",
      "        [ 1.3245,  1.1926]])\n",
      "\n",
      "Matrix (V):\n",
      "tensor([[ 1.5151,  0.8581],\n",
      "        [-0.2859,  0.8232],\n",
      "        [ 0.7832,  0.9041]])\n",
      "\n",
      "RECONSTRUCTED Matrix (V):\n",
      "tensor([[ 0.2188,  0.5036,  0.3678],\n",
      "        [ 3.2582, -0.0142,  1.9650],\n",
      "        [ 3.0300,  0.6031,  2.1155]])\n",
      "\n",
      " ORIGINAL Matrix (V):\n",
      "tensor([[0.3374, 0.6005, 0.1735],\n",
      "        [3.3359, 0.0492, 1.8374],\n",
      "        [2.9407, 0.5301, 2.2620]])\n",
      "\n",
      "Reconstruction Loss:\n",
      "tensor(0.1223)\n"
     ]
    }
   ],
   "source": [
    "import torch\n",
    "from torch.nn.functional import mse_loss\n",
    "\n",
    "\n",
    "A = torch.tensor([[0.3374, 0.6005, 0.1735],\n",
    "                  [3.3359, 0.0492, 1.8374],\n",
    "                  [2.9407, 0.5301, 2.2620]])\n",
    "\n",
    "rank = 2\n",
    "num_epochs = 1000\n",
    "lr = 0.01\n",
    "\n",
    "def sgd_factorize(A, rank, num_epochs=1000, lr=0.01):\n",
    "  U = torch.rand(A.shape[0], rank)\n",
    "  V = torch.rand(A.shape[1], rank)\n",
    "\n",
    " \n",
    "  for epoch in range(num_epochs):\n",
    "    for i in range(A.shape[0]):\n",
    "      for j in range(A.shape[1]):\n",
    "        e = A[i, j] - torch.dot(U[i], V[j])\n",
    "        U[i] = U[i] + lr * e * V[j]\n",
    "        V[j] = V[j] + lr * e * U[i]\n",
    "  return U, V\n",
    "\n",
    "\n",
    "U, V = sgd_factorize(A, rank)\n",
    "UV_hat = torch.mm(U, V.t()) \n",
    "loss = mse_loss(UV_hat, A, reduction='sum')\n",
    "print(\"Matrix (U):\")\n",
    "print(U)\n",
    "print(\"\\nMatrix (V):\")\n",
    "print(V)\n",
    "print(\"\\nRECONSTRUCTED Matrix (V):\")\n",
    "print(UV_hat)\n",
    "print(\"\\n ORIGINAL Matrix (V):\")\n",
    "print(A)\n",
    "print(\"\\nReconstruction Loss:\")\n",
    "print(loss)\n"
   ]
  },
  {
   "cell_type": "code",
   "execution_count": null,
   "metadata": {},
   "outputs": [],
   "source": [
    "#2.1"
   ]
  },
  {
   "cell_type": "code",
   "execution_count": 7,
   "metadata": {},
   "outputs": [
    {
     "name": "stdout",
     "output_type": "stream",
     "text": [
      "Original Matrix:\n",
      "tensor([[0.3374, 0.6005, 0.1735],\n",
      "        [3.3359, 0.0492, 1.8374],\n",
      "        [2.9407, 0.5301, 2.2620]])\n",
      "Reconstructed Matrix (A_reconstructed):\n",
      "tensor([[ 0.2749,  0.3194, -0.5718],\n",
      "        [ 3.0403, -1.3382, -1.8634],\n",
      "        [ 3.2480, -0.6209, -1.7636]])\n",
      "\n",
      "Reconstruction Loss:\n",
      "tensor(33.9710)\n"
     ]
    }
   ],
   "source": [
    "\n",
    "A = torch.tensor([[0.3374, 0.6005, 0.1735],\n",
    "                  [3.3359, 0.0492, 1.8374],\n",
    "                  [2.9407, 0.5301, 2.2620]])\n",
    "\n",
    "#TRUNCATED SVD HERE\n",
    "def truncated_svd(A, rank):\n",
    "  \n",
    "    U, Sigma, Vt = torch.svd(A)\n",
    "    U_trunc = U[:, :rank]\n",
    "    Sigma_trunc = torch.diag(Sigma[:rank])\n",
    "    Vt_trunc = Vt[:rank, :]\n",
    "\n",
    "    A_recon = torch.mm(U_trunc, torch.mm(Sigma_trunc, Vt_trunc))\n",
    "    loss = torch.norm(A - A_recon) ** 2  # L2 norm for squared error\n",
    "    return A_recon, loss\n",
    "rank = 9\n",
    "\n",
    "#TRUNCATED SVD HERE\n",
    "A_recon, loss = truncated_svd(A, rank)\n",
    "\n",
    "print(\"Original Matrix:\")\n",
    "print(A)\n",
    "print(\"Reconstructed Matrix (A_reconstructed):\")\n",
    "print(A_recon)\n",
    "print(\"\\nReconstruction Loss:\")\n",
    "print(loss)\n"
   ]
  },
  {
   "cell_type": "code",
   "execution_count": null,
   "metadata": {},
   "outputs": [],
   "source": [
    "#3.1"
   ]
  },
  {
   "cell_type": "code",
   "execution_count": 8,
   "metadata": {},
   "outputs": [
    {
     "name": "stdout",
     "output_type": "stream",
     "text": [
      "Completed Matrix:\n",
      "tensor([[ 0.3323,  0.5953,  0.1793],\n",
      "        [ 2.4258,  0.0511,  1.8372],\n",
      "        [ 2.9414, -0.2101,  2.2612]])\n"
     ]
    }
   ],
   "source": [
    "from typing import Tuple\n",
    "\n",
    "def sgd_factorize_masked(A: torch.Tensor, M: torch.Tensor, rank: int, num_epochs=1000, lr=0.01) -> Tuple[torch.Tensor, torch.Tensor]:\n",
    "    m, n = A.shape\n",
    "    U = torch.rand(m, rank)\n",
    "    V = torch.rand(n, rank)\n",
    "\n",
    "    for epoch in range(num_epochs):\n",
    "        for r in range(m):\n",
    "            for c in range(n):\n",
    "                if M[r, c] == 1:\n",
    "                    e = A[r, c] - torch.dot(U[r], V[c])\n",
    "                    U[r] += lr * e * V[c]\n",
    "                    V[c] += lr * e * U[r]\n",
    "    return U, V\n",
    "\n",
    "# Missing value marked as 0\n",
    "A = torch.tensor([[0.3374, 0.6005, 0.1735],\n",
    "                  [0.0, 0.0492, 1.8374],  \n",
    "                  [2.9407, 0.0, 2.2620]]) \n",
    "M = torch.tensor([[1, 1, 1],\n",
    "                  [0, 1, 1],  \n",
    "                  [1, 0, 1]])  \n",
    "\n",
    "rank = 2\n",
    "\n",
    "U, V = sgd_factorize_masked(A, M, rank)\n",
    "# Completed MATRIX\n",
    "A_completed = torch.mm(U, V.t())\n",
    "print(\"Completed Matrix:\")\n",
    "print(A_completed)\n",
    "    \n"
   ]
  },
  {
   "cell_type": "code",
   "execution_count": 34,
   "metadata": {},
   "outputs": [
    {
     "name": "stdout",
     "output_type": "stream",
     "text": [
      "Mean Squared Error (MSE) between A and completed matrix: 0.6253363490104675\n"
     ]
    }
   ],
   "source": [
    "mse = torch.mean((A - A_completed) ** 2)\n",
    "print(\"Mean Squared Error (MSE) between A and completed matrix:\", mse.item())\n"
   ]
  },
  {
   "cell_type": "code",
   "execution_count": 60,
   "metadata": {},
   "outputs": [],
   "source": [
    "#4.1"
   ]
  },
  {
   "cell_type": "code",
   "execution_count": 38,
   "metadata": {},
   "outputs": [
    {
     "name": "stdout",
     "output_type": "stream",
     "text": [
      "Predicted rating for 'A Beautiful Mind': 3.4865875244140625\n",
      "Sum of squared errors over valid values: 66435584.0\n"
     ]
    }
   ],
   "source": [
    "import torch\n",
    "import pandas as pd\n",
    "\n",
    "ratings_tensor = torch.load('/Users/abhashshrestha/Downloads/ratings.pt')\n",
    "titles_df = pd.read_csv('/Users/abhashshrestha/Downloads/titles.csv')\n",
    "\n",
    "\n",
    "beautiful_mind_row_index = titles_df[titles_df['name'] == 'A Beautiful Mind'].index.item()\n",
    "\n",
    "\n",
    "def gd_factorise_masked(A: torch.Tensor, M: torch.Tensor, rank: int, num_epochs: int = 1000, lr: float = 1e-5) -> torch.Tensor:\n",
    "    U = torch.rand(A.shape[0], rank)\n",
    "    V = torch.rand(A.shape[1], rank)\n",
    "    for e in range(num_epochs):\n",
    "        err = (A - U @ V.t()) * M\n",
    "        U += lr * err @ V\n",
    "        V += lr * err.t() @ U\n",
    "    return U, V\n",
    "\n",
    "\n",
    "U, V = gd_factorise_masked(ratings_tensor, (ratings_tensor != 0).float(), rank=5)\n",
    "\n",
    "predicted_rating = U[beautiful_mind_row_index] @ V[4].t()\n",
    "\n",
    "#squared errors\n",
    "completed_matrix = U @ V.t()\n",
    "masked_ratings = ratings_tensor * (ratings_tensor != 0).float()\n",
    "squared_errors = (completed_matrix - masked_ratings) ** 2\n",
    "sum_squared_errors = squared_errors.sum()\n",
    "\n",
    "print(\"Predicted rating for 'A Beautiful Mind':\", predicted_rating.item())\n",
    "print(\"Sum of squared errors over valid values:\", sum_squared_errors.item())\n"
   ]
  },
  {
   "cell_type": "code",
   "execution_count": 52,
   "metadata": {},
   "outputs": [
    {
     "name": "stdout",
     "output_type": "stream",
     "text": [
      "Actual Rating for User 5 on 'A Beautiful Mind': 0.0\n",
      "Predicted Rating for User 5 on 'A Beautiful Mind': 3.4865875244140625\n",
      "Error: 3.4865875244140625\n"
     ]
    }
   ],
   "source": [
    "#Calculating error for 5th user's rating prediction for A beautiful Mind\n",
    "actual_rating = ratings_tensor[beautiful_mind_row_index, 4]\n",
    "predicted_rating = U[beautiful_mind_row_index] @ V[4].t()\n",
    "error = predicted_rating - actual_rating\n",
    "\n",
    "print(\"Actual Rating for User 5 on 'A Beautiful Mind':\", actual_rating.item())\n",
    "print(\"Predicted Rating for User 5 on 'A Beautiful Mind':\", predicted_rating.item())\n",
    "print(\"Error:\", error.item())"
   ]
  },
  {
   "cell_type": "code",
   "execution_count": null,
   "metadata": {},
   "outputs": [],
   "source": []
  },
  {
   "cell_type": "code",
   "execution_count": null,
   "metadata": {},
   "outputs": [],
   "source": []
  }
 ],
 "metadata": {
  "kernelspec": {
   "display_name": "base",
   "language": "python",
   "name": "python3"
  },
  "language_info": {
   "codemirror_mode": {
    "name": "ipython",
    "version": 3
   },
   "file_extension": ".py",
   "mimetype": "text/x-python",
   "name": "python",
   "nbconvert_exporter": "python",
   "pygments_lexer": "ipython3",
   "version": "3.11.5"
  }
 },
 "nbformat": 4,
 "nbformat_minor": 2
}
